{
 "cells": [
  {
   "cell_type": "markdown",
   "metadata": {},
   "source": [
    "#                  Covid Contact Tracing using DBSCAN Clustering Algorithm "
   ]
  },
  {
   "cell_type": "markdown",
   "metadata": {},
   "source": [
    "### Important Libraries"
   ]
  },
  {
   "cell_type": "code",
   "execution_count": 1,
   "metadata": {},
   "outputs": [],
   "source": [
    "import pandas as pd\n",
    "import numpy as np\n",
    "import seaborn as sns\n",
    "import matplotlib.pyplot as plt\n",
    "from sklearn.cluster import DBSCAN"
   ]
  },
  {
   "cell_type": "markdown",
   "metadata": {},
   "source": [
    "### Reading the Dataset"
   ]
  },
  {
   "cell_type": "code",
   "execution_count": 2,
   "metadata": {},
   "outputs": [],
   "source": [
    "data = pd.read_json('data.json')"
   ]
  },
  {
   "cell_type": "code",
   "execution_count": 3,
   "metadata": {},
   "outputs": [
    {
     "data": {
      "text/html": [
       "<div>\n",
       "<style scoped>\n",
       "    .dataframe tbody tr th:only-of-type {\n",
       "        vertical-align: middle;\n",
       "    }\n",
       "\n",
       "    .dataframe tbody tr th {\n",
       "        vertical-align: top;\n",
       "    }\n",
       "\n",
       "    .dataframe thead th {\n",
       "        text-align: right;\n",
       "    }\n",
       "</style>\n",
       "<table border=\"1\" class=\"dataframe\">\n",
       "  <thead>\n",
       "    <tr style=\"text-align: right;\">\n",
       "      <th></th>\n",
       "      <th>id</th>\n",
       "      <th>timestamp</th>\n",
       "      <th>latitude</th>\n",
       "      <th>longitude</th>\n",
       "    </tr>\n",
       "  </thead>\n",
       "  <tbody>\n",
       "    <tr>\n",
       "      <th>0</th>\n",
       "      <td>David</td>\n",
       "      <td>2020-07-04 15:35:30</td>\n",
       "      <td>13.148953</td>\n",
       "      <td>77.593651</td>\n",
       "    </tr>\n",
       "    <tr>\n",
       "      <th>1</th>\n",
       "      <td>David</td>\n",
       "      <td>2020-07-04 16:35:30</td>\n",
       "      <td>13.222397</td>\n",
       "      <td>77.652828</td>\n",
       "    </tr>\n",
       "    <tr>\n",
       "      <th>2</th>\n",
       "      <td>Frank</td>\n",
       "      <td>2020-07-04 14:35:30</td>\n",
       "      <td>13.236507</td>\n",
       "      <td>77.693792</td>\n",
       "    </tr>\n",
       "    <tr>\n",
       "      <th>3</th>\n",
       "      <td>Carol</td>\n",
       "      <td>2020-07-04 21:35:30</td>\n",
       "      <td>13.163716</td>\n",
       "      <td>77.562842</td>\n",
       "    </tr>\n",
       "    <tr>\n",
       "      <th>4</th>\n",
       "      <td>Ivan</td>\n",
       "      <td>2020-07-04 22:35:30</td>\n",
       "      <td>13.232095</td>\n",
       "      <td>77.580273</td>\n",
       "    </tr>\n",
       "    <tr>\n",
       "      <th>...</th>\n",
       "      <td>...</td>\n",
       "      <td>...</td>\n",
       "      <td>...</td>\n",
       "      <td>...</td>\n",
       "    </tr>\n",
       "    <tr>\n",
       "      <th>95</th>\n",
       "      <td>Judy</td>\n",
       "      <td>2020-07-04 16:35:30</td>\n",
       "      <td>13.176481</td>\n",
       "      <td>77.619396</td>\n",
       "    </tr>\n",
       "    <tr>\n",
       "      <th>96</th>\n",
       "      <td>Bob</td>\n",
       "      <td>2020-07-04 15:35:30</td>\n",
       "      <td>13.172339</td>\n",
       "      <td>77.662080</td>\n",
       "    </tr>\n",
       "    <tr>\n",
       "      <th>97</th>\n",
       "      <td>Grace</td>\n",
       "      <td>2020-07-04 23:35:30</td>\n",
       "      <td>13.115079</td>\n",
       "      <td>77.697991</td>\n",
       "    </tr>\n",
       "    <tr>\n",
       "      <th>98</th>\n",
       "      <td>Bob</td>\n",
       "      <td>2020-07-04 19:35:30</td>\n",
       "      <td>13.180751</td>\n",
       "      <td>77.704404</td>\n",
       "    </tr>\n",
       "    <tr>\n",
       "      <th>99</th>\n",
       "      <td>Alice</td>\n",
       "      <td>2020-07-04 19:35:30</td>\n",
       "      <td>13.206235</td>\n",
       "      <td>77.595245</td>\n",
       "    </tr>\n",
       "  </tbody>\n",
       "</table>\n",
       "<p>100 rows × 4 columns</p>\n",
       "</div>"
      ],
      "text/plain": [
       "       id           timestamp   latitude  longitude\n",
       "0   David 2020-07-04 15:35:30  13.148953  77.593651\n",
       "1   David 2020-07-04 16:35:30  13.222397  77.652828\n",
       "2   Frank 2020-07-04 14:35:30  13.236507  77.693792\n",
       "3   Carol 2020-07-04 21:35:30  13.163716  77.562842\n",
       "4    Ivan 2020-07-04 22:35:30  13.232095  77.580273\n",
       "..    ...                 ...        ...        ...\n",
       "95   Judy 2020-07-04 16:35:30  13.176481  77.619396\n",
       "96    Bob 2020-07-04 15:35:30  13.172339  77.662080\n",
       "97  Grace 2020-07-04 23:35:30  13.115079  77.697991\n",
       "98    Bob 2020-07-04 19:35:30  13.180751  77.704404\n",
       "99  Alice 2020-07-04 19:35:30  13.206235  77.595245\n",
       "\n",
       "[100 rows x 4 columns]"
      ]
     },
     "execution_count": 3,
     "metadata": {},
     "output_type": "execute_result"
    }
   ],
   "source": [
    "data"
   ]
  },
  {
   "cell_type": "markdown",
   "metadata": {},
   "source": [
    "### Visualizing the Dataset"
   ]
  },
  {
   "cell_type": "code",
   "execution_count": 8,
   "metadata": {},
   "outputs": [
    {
     "data": {
      "text/plain": [
       "<matplotlib.legend.Legend at 0x1fbd306ee20>"
      ]
     },
     "execution_count": 8,
     "metadata": {},
     "output_type": "execute_result"
    },
    {
     "data": {
      "image/png": "[encoded data removed]",
      "text/plain": [
       "<Figure size 432x288 with 1 Axes>"
      ]
     },
     "metadata": {
      "needs_background": "light"
     },
     "output_type": "display_data"
    }
   ],
   "source": [
    "sns.scatterplot(data['latitude'],data['longitude'],hue=data['id'])\n",
    "plt.legend(loc='upper right',bbox_to_anchor=(1.3,1))"
   ]
  },
  {
   "cell_type": "markdown",
   "metadata": {},
   "source": [
    "### DBSCAN Implementation ( Density-based Spatial Clustering of Applications with Noise)"
   ]
  },
  {
   "cell_type": "markdown",
   "metadata": {},
   "source": [
    "Epsilon, \n",
    "\n",
    "Min_samples"
   ]
  },
  {
   "cell_type": "markdown",
   "metadata": {},
   "source": [
    "min_samples = 2"
   ]
  },
  {
   "cell_type": "code",
   "execution_count": 12,
   "metadata": {},
   "outputs": [],
   "source": [
    "epsilon = 0.01\n",
    "min_samples = 2\n",
    "\n",
    "model = DBSCAN(eps = epsilon,min_samples = min_samples,metric='euclidean')\n",
    "\n",
    "model.fit(data[['latitude','longitude']])\n",
    "\n",
    "data['clusters'] = model.labels_.tolist()"
   ]
  },
  {
   "cell_type": "code",
   "execution_count": null,
   "metadata": {},
   "outputs": [],
   "source": [
    "name='David'"
   ]
  },
  {
   "cell_type": "code",
   "execution_count": 22,
   "metadata": {},
   "outputs": [
    {
     "data": {
      "text/html": [
       "<div>\n",
       "<style scoped>\n",
       "    .dataframe tbody tr th:only-of-type {\n",
       "        vertical-align: middle;\n",
       "    }\n",
       "\n",
       "    .dataframe tbody tr th {\n",
       "        vertical-align: top;\n",
       "    }\n",
       "\n",
       "    .dataframe thead th {\n",
       "        text-align: right;\n",
       "    }\n",
       "</style>\n",
       "<table border=\"1\" class=\"dataframe\">\n",
       "  <thead>\n",
       "    <tr style=\"text-align: right;\">\n",
       "      <th></th>\n",
       "      <th>id</th>\n",
       "      <th>timestamp</th>\n",
       "      <th>latitude</th>\n",
       "      <th>longitude</th>\n",
       "      <th>clusters</th>\n",
       "    </tr>\n",
       "  </thead>\n",
       "  <tbody>\n",
       "    <tr>\n",
       "      <th>0</th>\n",
       "      <td>David</td>\n",
       "      <td>2020-07-04 15:35:30</td>\n",
       "      <td>13.148953</td>\n",
       "      <td>77.593651</td>\n",
       "      <td>0</td>\n",
       "    </tr>\n",
       "    <tr>\n",
       "      <th>33</th>\n",
       "      <td>Ivan</td>\n",
       "      <td>2020-07-04 19:35:30</td>\n",
       "      <td>13.140162</td>\n",
       "      <td>77.592594</td>\n",
       "      <td>0</td>\n",
       "    </tr>\n",
       "    <tr>\n",
       "      <th>49</th>\n",
       "      <td>Carol</td>\n",
       "      <td>2020-07-04 19:35:30</td>\n",
       "      <td>13.127510</td>\n",
       "      <td>77.587472</td>\n",
       "      <td>0</td>\n",
       "    </tr>\n",
       "    <tr>\n",
       "      <th>51</th>\n",
       "      <td>Erin</td>\n",
       "      <td>2020-07-04 13:35:30</td>\n",
       "      <td>13.137346</td>\n",
       "      <td>77.594941</td>\n",
       "      <td>0</td>\n",
       "    </tr>\n",
       "    <tr>\n",
       "      <th>87</th>\n",
       "      <td>Ivan</td>\n",
       "      <td>2020-07-04 14:35:30</td>\n",
       "      <td>13.116175</td>\n",
       "      <td>77.590685</td>\n",
       "      <td>0</td>\n",
       "    </tr>\n",
       "    <tr>\n",
       "      <th>88</th>\n",
       "      <td>David</td>\n",
       "      <td>2020-07-04 12:35:30</td>\n",
       "      <td>13.133737</td>\n",
       "      <td>77.593794</td>\n",
       "      <td>0</td>\n",
       "    </tr>\n",
       "    <tr>\n",
       "      <th>93</th>\n",
       "      <td>Alice</td>\n",
       "      <td>2020-07-04 13:35:30</td>\n",
       "      <td>13.119563</td>\n",
       "      <td>77.584292</td>\n",
       "      <td>0</td>\n",
       "    </tr>\n",
       "  </tbody>\n",
       "</table>\n",
       "</div>"
      ],
      "text/plain": [
       "       id           timestamp   latitude  longitude  clusters\n",
       "0   David 2020-07-04 15:35:30  13.148953  77.593651         0\n",
       "33   Ivan 2020-07-04 19:35:30  13.140162  77.592594         0\n",
       "49  Carol 2020-07-04 19:35:30  13.127510  77.587472         0\n",
       "51   Erin 2020-07-04 13:35:30  13.137346  77.594941         0\n",
       "87   Ivan 2020-07-04 14:35:30  13.116175  77.590685         0\n",
       "88  David 2020-07-04 12:35:30  13.133737  77.593794         0\n",
       "93  Alice 2020-07-04 13:35:30  13.119563  77.584292         0"
      ]
     },
     "execution_count": 22,
     "metadata": {},
     "output_type": "execute_result"
    }
   ],
   "source": [
    "data[data['clusters']==0]"
   ]
  },
  {
   "cell_type": "code",
   "execution_count": 25,
   "metadata": {},
   "outputs": [],
   "source": [
    "def infected_names(name):\n",
    "    input_name_clusters = []\n",
    "    for i in range(len(data)):\n",
    "        if data['id'][i] == name:\n",
    "            if data['clusters'][i] in input_name_clusters:\n",
    "                pass\n",
    "            else:\n",
    "                input_name_clusters.append(data['clusters'][i])\n",
    "                \n",
    "    infected_ones=[]\n",
    "    for cluster in input_name_clusters:\n",
    "        if cluster != -1:\n",
    "            ids_in_clusters = data.loc[data['clusters']==cluster,'id']\n",
    "            for i in range(len(ids_in_clusters)):\n",
    "                member_id = ids_in_clusters.iloc[i]\n",
    "                if (member_id not in infected_ones) and (member_id != name):\n",
    "                    infected_ones.append(member_id)\n",
    "    return infected_ones\n",
    "            "
   ]
  },
  {
   "cell_type": "code",
   "execution_count": 28,
   "metadata": {},
   "outputs": [],
   "source": [
    "infected_persons = infected_names('Judy')"
   ]
  },
  {
   "cell_type": "code",
   "execution_count": 29,
   "metadata": {},
   "outputs": [
    {
     "data": {
      "text/plain": [
       "['Bob', 'Ivan', 'David', 'Alice', 'Frank']"
      ]
     },
     "execution_count": 29,
     "metadata": {},
     "output_type": "execute_result"
    }
   ],
   "source": [
    "infected_persons"
   ]
  },
  {
   "cell_type": "code",
   "execution_count": null,
   "metadata": {},
   "outputs": [],
   "source": []
  }
 ],
 "metadata": {
  "kernelspec": {
   "display_name": "Python 3",
   "language": "python",
   "name": "python3"
  },
  "language_info": {
   "codemirror_mode": {
    "name": "ipython",
    "version": 3
   },
   "file_extension": ".py",
   "mimetype": "text/x-python",
   "name": "python",
   "nbconvert_exporter": "python",
   "pygments_lexer": "ipython3",
   "version": "3.8.3"
  }
 },
 "nbformat": 4,
 "nbformat_minor": 4
}
